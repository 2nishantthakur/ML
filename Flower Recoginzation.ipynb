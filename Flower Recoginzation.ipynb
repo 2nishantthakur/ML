{
 "cells": [
  {
   "cell_type": "code",
   "execution_count": 2,
   "id": "4387d96c",
   "metadata": {},
   "outputs": [],
   "source": [
    "\n",
    "import splitfolders\n",
    "\n",
    "splitfolders.ratio(\"flowers\", # The location of dataset\n",
    "                   output=\"FlowerDatasetDivided\", # The output location\n",
    "                   seed=42, # The number of seed\n",
    "                   ratio=(.8, .2, ), # The ratio of splited dataset\n",
    "                   group_prefix=None, # If your dataset contains more than one file like \".jpg\", \".pdf\", etc\n",
    "                   move=False # If you choose to move, turn this into True\n",
    "                   )"
   ]
  },
  {
   "cell_type": "code",
   "execution_count": 47,
   "id": "c90d129f",
   "metadata": {},
   "outputs": [],
   "source": [
    "import tensorflow as tf\n",
    "from keras.preprocessing.image import ImageDataGenerator"
   ]
  },
  {
   "cell_type": "code",
   "execution_count": 48,
   "id": "f16b3df7",
   "metadata": {},
   "outputs": [
    {
     "name": "stdout",
     "output_type": "stream",
     "text": [
      "Found 3452 images belonging to 5 classes.\n"
     ]
    }
   ],
   "source": [
    "train_datagen = ImageDataGenerator(rescale=1./255,\n",
    "                                  shear_range=0.2,\n",
    "                                  zoom_range=0.2,\n",
    "                                  horizontal_flip=True)\n",
    "training_set = train_datagen.flow_from_directory(\"FlowerDatasetDivided/train\",\n",
    "                                                target_size = (64,64),\n",
    "                                                batch_size= 32,\n",
    "                                                classes = ['daisy','dandelion','rose','sunflower','tulip'],\n",
    "                                                class_mode=\"categorical\")"
   ]
  },
  {
   "cell_type": "code",
   "execution_count": 49,
   "id": "22ba27cf",
   "metadata": {},
   "outputs": [
    {
     "name": "stdout",
     "output_type": "stream",
     "text": [
      "Found 865 images belonging to 5 classes.\n"
     ]
    }
   ],
   "source": [
    "test_datagen = ImageDataGenerator(rescale=1./255)\n",
    "test_set = test_datagen.flow_from_directory(\"FlowerDatasetDivided/test\",\n",
    "                                           target_size = (64,64),\n",
    "                                           batch_size = 32,\n",
    "                                           classes = ['daisy','dandelion','rose','sunflower','tulip'],\n",
    "                                           class_mode=\"categorical\")"
   ]
  },
  {
   "cell_type": "code",
   "execution_count": 50,
   "id": "73ea782b",
   "metadata": {},
   "outputs": [],
   "source": [
    "cnn = tf.keras.models.Sequential()"
   ]
  },
  {
   "cell_type": "code",
   "execution_count": 51,
   "id": "42accfed",
   "metadata": {},
   "outputs": [],
   "source": [
    "cnn.add(tf.keras.layers.Conv2D(filters = 32, kernel_size = 3, activation = 'relu', input_shape = [64,64,3]))"
   ]
  },
  {
   "cell_type": "code",
   "execution_count": 52,
   "id": "5324bd40",
   "metadata": {},
   "outputs": [],
   "source": [
    "cnn.add(tf.keras.layers.MaxPool2D(pool_size = 2, strides = 2))"
   ]
  },
  {
   "cell_type": "code",
   "execution_count": 53,
   "id": "6923ea38",
   "metadata": {},
   "outputs": [],
   "source": [
    "cnn.add(tf.keras.layers.Conv2D(filters=32, kernel_size=3, activation='relu'))\n",
    "cnn.add(tf.keras.layers.MaxPool2D(pool_size=2, strides=2))"
   ]
  },
  {
   "cell_type": "code",
   "execution_count": 54,
   "id": "f81dda2b",
   "metadata": {},
   "outputs": [],
   "source": [
    "cnn.add(tf.keras.layers.Flatten())"
   ]
  },
  {
   "cell_type": "code",
   "execution_count": 55,
   "id": "0cd69ee5",
   "metadata": {},
   "outputs": [],
   "source": [
    "cnn.add(tf.keras.layers.Dense(units=128, activation='relu'))"
   ]
  },
  {
   "cell_type": "code",
   "execution_count": 56,
   "id": "2b6c0a3a",
   "metadata": {},
   "outputs": [],
   "source": [
    "cnn.add(tf.keras.layers.Dense(units=5, activation='softmax'))"
   ]
  },
  {
   "cell_type": "code",
   "execution_count": 57,
   "id": "611cfd14",
   "metadata": {},
   "outputs": [],
   "source": [
    "from tensorflow.keras.optimizers import RMSprop\n",
    "cnn.compile(optimizer=RMSprop(lr=0.001), loss = \"categorical_crossentropy\", metrics = [\"accuracy\"])"
   ]
  },
  {
   "cell_type": "code",
   "execution_count": 58,
   "id": "bdcb9d85",
   "metadata": {},
   "outputs": [
    {
     "name": "stdout",
     "output_type": "stream",
     "text": [
      "Epoch 1/30\n",
      "108/108 [==============================] - 9s 75ms/step - loss: 1.3375 - accuracy: 0.4351 - val_loss: 1.1242 - val_accuracy: 0.5387\n",
      "Epoch 2/30\n",
      "108/108 [==============================] - 8s 74ms/step - loss: 1.1283 - accuracy: 0.5545 - val_loss: 1.0817 - val_accuracy: 0.5584\n",
      "Epoch 3/30\n",
      "108/108 [==============================] - 8s 73ms/step - loss: 1.0157 - accuracy: 0.6034 - val_loss: 0.9674 - val_accuracy: 0.6000\n",
      "Epoch 4/30\n",
      "108/108 [==============================] - 8s 75ms/step - loss: 0.9483 - accuracy: 0.6283 - val_loss: 0.9541 - val_accuracy: 0.6289\n",
      "Epoch 5/30\n",
      "108/108 [==============================] - 8s 76ms/step - loss: 0.8808 - accuracy: 0.6677 - val_loss: 0.8884 - val_accuracy: 0.6532\n",
      "Epoch 6/30\n",
      "108/108 [==============================] - 8s 77ms/step - loss: 0.8222 - accuracy: 0.6897 - val_loss: 0.8137 - val_accuracy: 0.6832\n",
      "Epoch 7/30\n",
      "108/108 [==============================] - 8s 75ms/step - loss: 0.7858 - accuracy: 0.6958 - val_loss: 0.9249 - val_accuracy: 0.6509\n",
      "Epoch 8/30\n",
      "108/108 [==============================] - 8s 75ms/step - loss: 0.7481 - accuracy: 0.7164 - val_loss: 0.8152 - val_accuracy: 0.6832\n",
      "Epoch 9/30\n",
      "108/108 [==============================] - 8s 75ms/step - loss: 0.6997 - accuracy: 0.7300 - val_loss: 0.8363 - val_accuracy: 0.6659\n",
      "Epoch 10/30\n",
      "108/108 [==============================] - 8s 75ms/step - loss: 0.6795 - accuracy: 0.7480 - val_loss: 0.9148 - val_accuracy: 0.6671\n",
      "Epoch 11/30\n",
      "108/108 [==============================] - 8s 76ms/step - loss: 0.6454 - accuracy: 0.7648 - val_loss: 0.8370 - val_accuracy: 0.6948\n",
      "Epoch 12/30\n",
      "108/108 [==============================] - 8s 74ms/step - loss: 0.6199 - accuracy: 0.7746 - val_loss: 0.7528 - val_accuracy: 0.7087\n",
      "Epoch 13/30\n",
      "108/108 [==============================] - 8s 78ms/step - loss: 0.5687 - accuracy: 0.7833 - val_loss: 0.9187 - val_accuracy: 0.6809\n",
      "Epoch 14/30\n",
      "108/108 [==============================] - 8s 75ms/step - loss: 0.5476 - accuracy: 0.8048 - val_loss: 0.8262 - val_accuracy: 0.7098\n",
      "Epoch 15/30\n",
      "108/108 [==============================] - 8s 75ms/step - loss: 0.5099 - accuracy: 0.8137 - val_loss: 0.8482 - val_accuracy: 0.6971\n",
      "Epoch 16/30\n",
      "108/108 [==============================] - 8s 75ms/step - loss: 0.4815 - accuracy: 0.8192 - val_loss: 0.9085 - val_accuracy: 0.6890\n",
      "Epoch 17/30\n",
      "108/108 [==============================] - 8s 75ms/step - loss: 0.4650 - accuracy: 0.8352 - val_loss: 0.8630 - val_accuracy: 0.7017\n",
      "Epoch 18/30\n",
      "108/108 [==============================] - 8s 75ms/step - loss: 0.4327 - accuracy: 0.8378 - val_loss: 0.8541 - val_accuracy: 0.7017\n",
      "Epoch 19/30\n",
      "108/108 [==============================] - 8s 74ms/step - loss: 0.4053 - accuracy: 0.8511 - val_loss: 0.9432 - val_accuracy: 0.7121\n",
      "Epoch 20/30\n",
      "108/108 [==============================] - 8s 75ms/step - loss: 0.3911 - accuracy: 0.8572 - val_loss: 0.9888 - val_accuracy: 0.6751\n",
      "Epoch 21/30\n",
      "108/108 [==============================] - 8s 74ms/step - loss: 0.3623 - accuracy: 0.8731 - val_loss: 0.9362 - val_accuracy: 0.7017\n",
      "Epoch 22/30\n",
      "108/108 [==============================] - 8s 74ms/step - loss: 0.3379 - accuracy: 0.8783 - val_loss: 1.0301 - val_accuracy: 0.6821\n",
      "Epoch 23/30\n",
      "108/108 [==============================] - 8s 76ms/step - loss: 0.3162 - accuracy: 0.8873 - val_loss: 1.1511 - val_accuracy: 0.6798\n",
      "Epoch 24/30\n",
      "108/108 [==============================] - 8s 76ms/step - loss: 0.2892 - accuracy: 0.8960 - val_loss: 1.0837 - val_accuracy: 0.6844\n",
      "Epoch 25/30\n",
      "108/108 [==============================] - 8s 74ms/step - loss: 0.2888 - accuracy: 0.8925 - val_loss: 1.2445 - val_accuracy: 0.6601\n",
      "Epoch 26/30\n",
      "108/108 [==============================] - 8s 76ms/step - loss: 0.2567 - accuracy: 0.9119 - val_loss: 1.2351 - val_accuracy: 0.6624\n",
      "Epoch 27/30\n",
      "108/108 [==============================] - 8s 74ms/step - loss: 0.2467 - accuracy: 0.9093 - val_loss: 1.2928 - val_accuracy: 0.6636\n",
      "Epoch 28/30\n",
      "108/108 [==============================] - 8s 74ms/step - loss: 0.2443 - accuracy: 0.9157 - val_loss: 1.1666 - val_accuracy: 0.6786\n",
      "Epoch 29/30\n",
      "108/108 [==============================] - 8s 76ms/step - loss: 0.2315 - accuracy: 0.9177 - val_loss: 1.1760 - val_accuracy: 0.6983\n",
      "Epoch 30/30\n",
      "108/108 [==============================] - 8s 74ms/step - loss: 0.1995 - accuracy: 0.9316 - val_loss: 1.1631 - val_accuracy: 0.7064\n"
     ]
    },
    {
     "data": {
      "text/plain": [
       "<keras.callbacks.History at 0x28b4798d688>"
      ]
     },
     "execution_count": 58,
     "metadata": {},
     "output_type": "execute_result"
    }
   ],
   "source": [
    "cnn.fit(x = training_set, validation_data=test_set, epochs = 30)"
   ]
  },
  {
   "cell_type": "code",
   "execution_count": 59,
   "id": "848aca86",
   "metadata": {},
   "outputs": [],
   "source": [
    "cnn.save(\"model1.h5\")"
   ]
  },
  {
   "cell_type": "code",
   "execution_count": 69,
   "id": "64e930e4",
   "metadata": {},
   "outputs": [
    {
     "name": "stdout",
     "output_type": "stream",
     "text": [
      "1/1 [==============================] - 0s 15ms/step\n",
      "[[0. 0. 0. 0. 1.]]\n",
      "TULIP\n"
     ]
    }
   ],
   "source": [
    "import numpy as np\n",
    "import keras.utils as image\n",
    "test_image = image.load_img('tulipTestImage.jpg', target_size = (64,64))\n",
    "#test_image = image.img_to_array(test_image)\n",
    "test_image = np.expand_dims(test_image, axis=0)\n",
    "result = cnn.predict(test_image)\n",
    "print(result)\n",
    "if result[0][0] == 1:\n",
    "    print(\"DAISY\")\n",
    "elif result[0][1] == 1:\n",
    "    print(\"DANDELION\")\n",
    "elif result[0][2] == 1:\n",
    "    print(\"ROSE\")\n",
    "elif result[0][3] == 1:\n",
    "    print(\"SUNFLOWER\")\n",
    "else:\n",
    "    print(\"TULIP\")"
   ]
  },
  {
   "cell_type": "code",
   "execution_count": null,
   "id": "15dc808f",
   "metadata": {},
   "outputs": [],
   "source": []
  }
 ],
 "metadata": {
  "kernelspec": {
   "display_name": "Python 3 (ipykernel)",
   "language": "python",
   "name": "python3"
  },
  "language_info": {
   "codemirror_mode": {
    "name": "ipython",
    "version": 3
   },
   "file_extension": ".py",
   "mimetype": "text/x-python",
   "name": "python",
   "nbconvert_exporter": "python",
   "pygments_lexer": "ipython3",
   "version": "3.7.16"
  }
 },
 "nbformat": 4,
 "nbformat_minor": 5
}
